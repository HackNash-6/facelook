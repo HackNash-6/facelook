{
 "metadata": {
  "name": "",
  "signature": "sha256:bd42cbcb210050716d39694dc6c145be173efdaadb05aff181fa66bc9f0bf33b"
 },
 "nbformat": 3,
 "nbformat_minor": 0,
 "worksheets": [
  {
   "cells": [
    {
     "cell_type": "markdown",
     "metadata": {},
     "source": [
      "# Function Defs"
     ]
    },
    {
     "cell_type": "code",
     "collapsed": false,
     "input": [
      "##############################################\n",
      "# Face detection and resizing function\n",
      "##############################################\n",
      "import numpy as np\n",
      "import cv2\n",
      "\n",
      "def detectFace(raw_image):\n",
      "    faceCascade = cv2.CascadeClassifier(\"./haarcascade_frontalface_default.xml\")\n",
      "    faces = faceCascade.detectMultiScale(\n",
      "        raw_image,\n",
      "        scaleFactor=1.1,\n",
      "        minNeighbors=5,\n",
      "        minSize=(30, 30),\n",
      "        flags = cv2.cv.CV_HAAR_SCALE_IMAGE)\n",
      "    for (x, y, w, h) in faces:\n",
      "        new_image = cv2.resize(raw_image[y:y+h,x:x+w],(100,100))\n",
      "    return new_image\n"
     ],
     "language": "python",
     "metadata": {},
     "outputs": [],
     "prompt_number": 134
    },
    {
     "cell_type": "code",
     "collapsed": false,
     "input": [
      "# Traverses all current and all subdirectories to extract *1.jpg files \n",
      "# and convert to grayscale\n",
      "\n",
      "import re, os\n",
      "\n",
      "curdir = os.curdir\n",
      "raw_images = []\n",
      "\n",
      "for root, dirs, files in os.walk(curdir):\n",
      "    for name in files:\n",
      "        path = os.path.join(root, name)\n",
      "        match = re.search(\".+1\\.jpg$\", path)\n",
      "        if match:\n",
      "            image = cv2.imread(path,0)\n",
      "            raw_images.append(image)\n",
      "            print path\n",
      "\n",
      "print len(raw_images)\n",
      "\n",
      "face_list = []\n",
      "for image in raw_images:\n",
      "    face_list.append(detectFace(image))"
     ],
     "language": "python",
     "metadata": {},
     "outputs": []
    },
    {
     "cell_type": "markdown",
     "metadata": {},
     "source": [
      "# Development space"
     ]
    },
    {
     "cell_type": "code",
     "collapsed": false,
     "input": [
      "anne = cv2.imread(\"anne.jpg\",0)\n",
      "face = detectFace(anne)\n",
      "cv2.imshow(\"face\",face)\n",
      "cv2.waitKey(0)\n",
      "cv2.destroyAllWindows()"
     ],
     "language": "python",
     "metadata": {},
     "outputs": [],
     "prompt_number": 161
    },
    {
     "cell_type": "code",
     "collapsed": false,
     "input": [
      "import os, re\n",
      "import numpy as np\n",
      "import cv2"
     ],
     "language": "python",
     "metadata": {},
     "outputs": [],
     "prompt_number": 160
    },
    {
     "cell_type": "code",
     "collapsed": false,
     "input": [
      "# Read in raw image file as grayscale\n",
      "\n",
      "raw_image = cv2.imread(\"testPhotos/ariana1.jpg\",0)"
     ],
     "language": "python",
     "metadata": {},
     "outputs": []
    },
    {
     "cell_type": "code",
     "collapsed": false,
     "input": [
      "# Use Haar CascadeClassifier to detect faces\n",
      "\n",
      "faceCascade = cv2.CascadeClassifier(\"./haarcascade_frontalface_default.xml\")\n",
      "faces = faceCascade.detectMultiScale(\n",
      "    raw_image,\n",
      "    scaleFactor=1.1,\n",
      "    minNeighbors=5,\n",
      "    minSize=(30, 30),\n",
      "    flags = cv2.cv.CV_HAAR_SCALE_IMAGE)\n",
      "print \"Found {0} faces!\".format(len(faces))"
     ],
     "language": "python",
     "metadata": {},
     "outputs": []
    },
    {
     "cell_type": "code",
     "collapsed": false,
     "input": [
      "# Extract detected faces\n",
      "\n",
      "face_list = []\n",
      "for (x, y, w, h) in faces:\n",
      "#    cv2.rectangle(raw_image, (x, y), (x+w, y+h), (0, 255, 0), 2)\n",
      "    face_list.append(cv2.resize(raw_image[y:y+h,x:x+w],(100,100)))"
     ],
     "language": "python",
     "metadata": {},
     "outputs": []
    },
    {
     "cell_type": "code",
     "collapsed": false,
     "input": [
      "# Show faces\n",
      "\n",
      "cv2.imshow(\"orig\",raw_image)\n",
      "cv2.waitKey(0)\n",
      "cv2.destroyAllWindows()\n",
      "for face in face_list:\n",
      "    cv2.imshow(\"face\",face)\n",
      "    cv2.waitKey(0)\n",
      "    cv2.destroyAllWindows()"
     ],
     "language": "python",
     "metadata": {},
     "outputs": []
    },
    {
     "cell_type": "code",
     "collapsed": false,
     "input": [
      "def showFace(face):\n",
      "    cv2.imshow(\"face\",face)\n",
      "    cv2.waitKey(0)\n",
      "    cv2.destroyAllWindows()"
     ],
     "language": "python",
     "metadata": {},
     "outputs": [],
     "prompt_number": 156
    },
    {
     "cell_type": "markdown",
     "metadata": {},
     "source": [
      "# garbage collection"
     ]
    },
    {
     "cell_type": "code",
     "collapsed": false,
     "input": [
      "cv2.destroyAllWindows()"
     ],
     "language": "python",
     "metadata": {},
     "outputs": [],
     "prompt_number": 164
    },
    {
     "cell_type": "code",
     "collapsed": false,
     "input": [],
     "language": "python",
     "metadata": {},
     "outputs": []
    }
   ],
   "metadata": {}
  }
 ]
}