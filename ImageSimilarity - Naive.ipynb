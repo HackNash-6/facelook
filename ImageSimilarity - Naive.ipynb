{
 "metadata": {
  "name": "",
  "signature": "sha256:5f9f3f29e44297d7bc444e80074890f91e483a7611d72cd427a3350e9c23281d"
 },
 "nbformat": 3,
 "nbformat_minor": 0,
 "worksheets": [
  {
   "cells": [
    {
     "cell_type": "code",
     "collapsed": false,
     "input": [
      "import os\n",
      "import errno\n",
      "import shutil\n",
      "import itertools\n",
      "import requests\n",
      "from PIL import Image\n",
      "from numpy import average, linalg, dot\n"
     ],
     "language": "python",
     "metadata": {},
     "outputs": [],
     "prompt_number": 55
    },
    {
     "cell_type": "code",
     "collapsed": false,
     "input": [
      "def download_file(url, filepath):\n",
      "    _USER_AGENT = 'Mozilla/5.0 (Windows NT 6.2; Win64; x64) AppleWebKit/537.36 (KHTML, like Gecko) Chrome/32.0.1667.0 Safari/537.36'\n",
      "    headers = { 'user-agent': _USER_AGENT }\n",
      "    r = requests.get(url, headers=headers, timeout=60, stream=True)\n",
      "    with open(filepath, 'wb') as f:\n",
      "        for chunk in r.iter_content(chunk_size=1024): \n",
      "            if chunk:\n",
      "                f.write(chunk)\n",
      "                f.flush()\n",
      "    return filepath\n"
     ],
     "language": "python",
     "metadata": {},
     "outputs": []
    },
    {
     "cell_type": "code",
     "collapsed": false,
     "input": [
      "image_urls = [\n",
      "    'http://celebritydb.net/images/1407162060_59511.jpg',\n",
      "    'http://celebritydb.net/images/1407162123_18383.jpg',\n",
      "    'http://images.agoramedia.com/everydayhealth/gcms/celebrity-sleep-disorders-Jennifer-Aniston-pg-full.jpg'\n",
      "]\n",
      "\n",
      "for line in image_urls:\n",
      "    download_file(line, 'images/' + line.split('/')[-1])"
     ],
     "language": "python",
     "metadata": {},
     "outputs": [],
     "prompt_number": 66
    },
    {
     "cell_type": "code",
     "collapsed": false,
     "input": [
      "image_count = 1"
     ],
     "language": "python",
     "metadata": {},
     "outputs": [],
     "prompt_number": 67
    },
    {
     "cell_type": "code",
     "collapsed": false,
     "input": [
      "def similarity(url):\n",
      "    \n",
      "    global image_count\n",
      "    path = 'tmp/{0}_.jpg'.format(image_count)\n",
      "    download_file(url, path)\n",
      "    image_count += 1\n",
      "    \n",
      "    return compare_similarity(path)\n",
      "\n",
      "def compare_similarity(path):\n",
      "    largest_similarity = 0.0\n",
      "    matching_images = ()\n",
      "\n",
      "    image_comparison_dict = {\n",
      "        'similarity': largest_similarity,\n",
      "        'images': []\n",
      "    }\n",
      "    \n",
      "    for f in os.listdir('images/'):\n",
      "        if path.split('/')[1] != f and f != '.DS_Store':\n",
      "            similarity = image_similarity_vectors_via_numpy(path, 'images/' + f)\n",
      "            if similarity > largest_similarity:\n",
      "                largest_similarity = similarity\n",
      "                matching_images = (f, similarity)\n",
      "                image_comparison_dict = {\n",
      "                    'similarity': largest_similarity,\n",
      "                    'images': matching_images\n",
      "                }\n",
      "\n",
      "    return image_comparison_dict\n",
      "\n",
      "def image_similarity_vectors_via_numpy(filepath1, filepath2):\n",
      "\n",
      "    image1 = Image.open(filepath1)\n",
      "    image2 = Image.open(filepath2)\n",
      " \n",
      "    image1 = get_thumbnail(image1)\n",
      "    image2 = get_thumbnail(image2)\n",
      "    \n",
      "    images = [image1, image2]\n",
      "    vectors = []\n",
      "    norms = []\n",
      "    for image in images:\n",
      "        vector = []\n",
      "        for pixel_tuple in image.getdata():\n",
      "            vector.append(average(pixel_tuple))\n",
      "        vectors.append(vector)\n",
      "        norms.append(linalg.norm(vector, 2))\n",
      "    a, b = vectors\n",
      "    a_norm, b_norm = norms\n",
      "    # If we did not resize the images to be equal, we would get an error here\n",
      "    # ValueError: matrices are not aligned\n",
      "    res = dot(a / a_norm, b / b_norm)\n",
      "    return res\n",
      "\n",
      "def get_thumbnail(image, size=(128,128), greyscale=False):\n",
      "    #get a smaller version of the image - makes comparison much faster/easier\n",
      "    image = image.resize(size, Image.ANTIALIAS)\n",
      "    if greyscale:\n",
      "        #convert image to greyscale\n",
      "        image = image.convert('L')\n",
      "    return image\n"
     ],
     "language": "python",
     "metadata": {},
     "outputs": [],
     "prompt_number": 68
    },
    {
     "cell_type": "code",
     "collapsed": false,
     "input": [
      "similarity('http://www.eonline.com/resize/300/300/www.eonline.com/eol_images/Entire_Site/201488/rs_300x300-140908133055-600-megan-fox-turtles-sydney.ls.98114.jpg')"
     ],
     "language": "python",
     "metadata": {},
     "outputs": [
      {
       "metadata": {},
       "output_type": "pyout",
       "prompt_number": 69,
       "text": [
        "{'images': ('1407162123_18383.jpg', 0.82570563837482513),\n",
        " 'similarity': 0.82570563837482513}"
       ]
      }
     ],
     "prompt_number": 69
    }
   ],
   "metadata": {}
  }
 ]
}